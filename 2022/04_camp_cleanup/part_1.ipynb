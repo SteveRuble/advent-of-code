{
 "cells": [
  {
   "cell_type": "code",
   "execution_count": 11,
   "metadata": {},
   "outputs": [
    {
     "data": {
      "text/plain": [
       "859"
      ]
     },
     "execution_count": 11,
     "metadata": {},
     "output_type": "execute_result"
    }
   ],
   "source": [
    "from enum import Enum\n",
    "\n",
    "data = open(\"input.txt\").read().splitlines()\n",
    "\n",
    "class Range():\n",
    "    def __init__(self, serialized):\n",
    "        self.start, self.end = [int(x) for x in serialized.split(\"-\")] \n",
    "    def contains(self, other):\n",
    "        return self.start <= other.start and self.end >= other.end\n",
    "    def overlaps(self, other):\n",
    "        if self.contains(other) or other.contains(self):\n",
    "            return True\n",
    "        if self.start <= other.start and self.end >= other.start:\n",
    "            return True\n",
    "        if self.start <= other.end and self.end >= other.end:\n",
    "            return True\n",
    "        return False\n",
    "total = 0\n",
    "for line in data:\n",
    "    left, right = [Range(x) for x in line.split(\",\")]\n",
    "    if left.overlaps(right):\n",
    "        total += 1\n",
    "    \n",
    "total\n"
   ]
  }
 ],
 "metadata": {
  "kernelspec": {
   "display_name": "Python 3.11.0 64-bit",
   "language": "python",
   "name": "python3"
  },
  "language_info": {
   "codemirror_mode": {
    "name": "ipython",
    "version": 3
   },
   "file_extension": ".py",
   "mimetype": "text/x-python",
   "name": "python",
   "nbconvert_exporter": "python",
   "pygments_lexer": "ipython3",
   "version": "3.11.0"
  },
  "orig_nbformat": 4,
  "vscode": {
   "interpreter": {
    "hash": "2e08becd2fb66981e99f43f59d267a76f406a764571e712c80c35314ff1ef65d"
   }
  }
 },
 "nbformat": 4,
 "nbformat_minor": 2
}
