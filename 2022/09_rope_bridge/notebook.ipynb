{
 "cells": [
  {
   "cell_type": "code",
   "execution_count": 57,
   "metadata": {},
   "outputs": [],
   "source": [
    "from typing import Tuple\n",
    "import math\n",
    "\n",
    "directions = {\n",
    "   \"R\": (1,0),\n",
    "   \"L\": (-1,0),\n",
    "   \"U\": (0,1),\n",
    "   \"D\": (0,-1)\n",
    "}\n",
    "\n",
    "def move_head(coords: Tuple[int,int], dir: str) -> Tuple[int,int]:\n",
    "    x, y = coords\n",
    "    dx, dy = directions[dir]\n",
    "    return x+dx, y+dy\n",
    "\n",
    "def distance(offset: Tuple[int,int]) -> float:\n",
    "    x,y = offset\n",
    "    return math.sqrt(abs(x)**2 + abs(y)**2)\n",
    "\n",
    "def offset(head: Tuple[int,int], tail: Tuple[int,int]) -> Tuple[int,int]:\n",
    "    hx, hy = head\n",
    "    tx, ty = tail\n",
    "    return (hx -tx, hy -ty)\n",
    "\n",
    "def step(x: float) -> int:\n",
    "    if x > 0:\n",
    "        return 1\n",
    "    if x == 0:\n",
    "        return 0\n",
    "    if x < 0:\n",
    "        return -1\n",
    "\n",
    "def move_tail(head: Tuple[int,int], tail: Tuple[int,int]) -> Tuple[int,int]:\n",
    "    dx, dy = offset(head,tail)\n",
    "    dist = distance((dx,dy))\n",
    "    tx, ty = tail\n",
    "    if dist < 1.5:\n",
    "        return tail\n",
    "    return (tx + step(dx), ty + step(dy))\n",
    "\n",
    "\n",
    "\n"
   ]
  },
  {
   "cell_type": "code",
   "execution_count": 60,
   "metadata": {},
   "outputs": [
    {
     "name": "stdout",
     "output_type": "stream",
     "text": [
      "6023\n"
     ]
    }
   ],
   "source": [
    "head = (0,0)\n",
    "tail = (0,0)\n",
    "\n",
    "data = open(\"input.txt\").read().splitlines()\n",
    "\n",
    "tail_history = set()\n",
    "\n",
    "for i, line in enumerate(data):\n",
    "    dir, dist = line.split()\n",
    "    for _ in range(int(dist)):\n",
    "        head = move_head(head, dir)\n",
    "        tail = move_tail(head, tail)\n",
    "        tail_history.add(tail)\n",
    "print(len(tail_history))"
   ]
  },
  {
   "cell_type": "code",
   "execution_count": 61,
   "metadata": {},
   "outputs": [
    {
     "name": "stdout",
     "output_type": "stream",
     "text": [
      "2533\n"
     ]
    }
   ],
   "source": [
    "\n",
    "\n",
    "data = open(\"input.txt\").read().splitlines()\n",
    "\n",
    "knots = [(0,0) for _ in range(10)]\n",
    "tail_history = set()\n",
    "\n",
    "for i, line in enumerate(data):\n",
    "    dir, dist = line.split()\n",
    "    for _ in range(int(dist)):\n",
    "        knots[0] = move_head(knots[0], dir)\n",
    "        for i in range(1, 10):\n",
    "            knots[i] = move_tail(knots[i-1],knots[i])\n",
    "        tail_history.add(knots[9])\n",
    "\n",
    "print(len(tail_history))"
   ]
  }
 ],
 "metadata": {
  "kernelspec": {
   "display_name": "Python 3.9.7 64-bit",
   "language": "python",
   "name": "python3"
  },
  "language_info": {
   "codemirror_mode": {
    "name": "ipython",
    "version": 3
   },
   "file_extension": ".py",
   "mimetype": "text/x-python",
   "name": "python",
   "nbconvert_exporter": "python",
   "pygments_lexer": "ipython3",
   "version": "3.9.7"
  },
  "orig_nbformat": 4,
  "vscode": {
   "interpreter": {
    "hash": "7f81e4c43d48f28c6da79efcf7f9418cb934eace88fd60d7dad5e6dafe5b4c16"
   }
  }
 },
 "nbformat": 4,
 "nbformat_minor": 2
}
