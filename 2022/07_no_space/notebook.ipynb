{
 "cells": [
  {
   "cell_type": "code",
   "execution_count": 2,
   "metadata": {},
   "outputs": [],
   "source": [
    "class Node():\n",
    "    size = 0\n",
    "    def __init__(self, name, size, parent):\n",
    "        self.parent = parent\n",
    "        self.name = name\n",
    "        self.size = size\n",
    "        self.isDir = size == 0\n",
    "        self.children = {}\n",
    "        self.path = \"\"\n",
    "        if parent:\n",
    "            self.path = self.parent.path + self.name\n",
    "        if self.isDir:\n",
    "            self.path += \"/\"\n",
    "    \n",
    "    def _increment_size(self, amount):\n",
    "        self.size += amount\n",
    "        if self.parent:\n",
    "            self.parent._increment_size(amount)\n",
    "\n",
    "    def add(self, node):\n",
    "        self.children[node.name] = node\n",
    "        self._increment_size(node.size)\n",
    "        #print(f\"add {node}\")\n",
    "        return node\n",
    "\n",
    "    def __repr__(self):\n",
    "        return f\"{self.path} {self.size}\"\n",
    "\n",
    "\n",
    "        \n",
    "class FS():\n",
    "    def __init__(self):\n",
    "        self.root = Node(\"/\", 0, None)\n",
    "        self.current = self.root\n",
    "        self.nodes = {\n",
    "            self.root.path: self.root\n",
    "        }\n",
    "\n",
    "    def _cd(self, node):\n",
    "        # print(f\"cd to {node}\")\n",
    "        self.current = node\n",
    "\n",
    "    def cd(self, name):\n",
    "        if name == \"/\":\n",
    "            self._cd(self.root)\n",
    "            return\n",
    "        if name == \"..\" and self.current.parent:\n",
    "            self._cd(self.current.parent)\n",
    "            return\n",
    "        next = self.current.children.get(name)\n",
    "        if not next:\n",
    "            print(self)\n",
    "            raise Exception(f\"node {self} has no child {name}\")\n",
    "\n",
    "        self._cd(self.current.children[name])\n",
    "\n",
    "    def learn(self, line: str):\n",
    "        kind, name = line.split()\n",
    "        size = int(kind) if kind.isdecimal() else 0\n",
    "        node = self.current.add(Node(name, size, self.current))\n",
    "        self.nodes[node.path] = node\n",
    "    \n",
    "    def __repr__(self):\n",
    "        out = \"\"\n",
    "        for node in self.nodes.values():\n",
    "            out += f\"{node}\\n\"\n",
    "        return out\n"
   ]
  },
  {
   "cell_type": "code",
   "execution_count": 4,
   "metadata": {},
   "outputs": [
    {
     "data": {
      "text/plain": [
       "1642503"
      ]
     },
     "execution_count": 4,
     "metadata": {},
     "output_type": "execute_result"
    }
   ],
   "source": [
    "import re\n",
    "from collections import deque\n",
    "\n",
    "data = open(\"input.txt\").read().splitlines()\n",
    "\n",
    "    \n",
    "fs = FS()\n",
    "\n",
    "for line in data:\n",
    "    #print(line)\n",
    "    parts = line.split()\n",
    "    if len(parts) > 2:\n",
    "        fs.cd(parts[2])\n",
    "    elif parts[1] == \"ls\":\n",
    "        continue\n",
    "    else:\n",
    "        fs.learn(line)\n",
    "\n",
    "total = 0\n",
    "for node in fs.nodes.values():\n",
    "    # print(node)\n",
    "    if node.isDir and node.size <= 100000:\n",
    "        total += node.size\n",
    "    \n",
    "total\n",
    "\n"
   ]
  },
  {
   "cell_type": "code",
   "execution_count": null,
   "metadata": {},
   "outputs": [
    {
     "data": {
      "text/plain": [
       "1642503"
      ]
     },
     "metadata": {},
     "output_type": "display_data"
    }
   ],
   "source": [
    "import re\n",
    "from collections import deque\n",
    "\n",
    "data = open(\"input.txt\").read().splitlines()\n",
    "\n",
    "    \n",
    "fs = FS()\n",
    "\n",
    "for line in data:\n",
    "    #print(line)\n",
    "    parts = line.split()\n",
    "    if len(parts) > 2:\n",
    "        fs.cd(parts[2])\n",
    "    elif parts[1] == \"ls\":\n",
    "        continue\n",
    "    else:\n",
    "        fs.learn(line)\n",
    "\n",
    "total = 0\n",
    "for node in fs.nodes.values():\n",
    "    # print(node)\n",
    "    if node.isDir and node.size <= 100000:\n",
    "        total += node.size\n",
    "    \n",
    "total\n",
    "\n"
   ]
  },
  {
   "cell_type": "code",
   "execution_count": 5,
   "metadata": {},
   "outputs": [
    {
     "name": "stdout",
     "output_type": "stream",
     "text": [
      "needed 6592386 unused 23407614\n"
     ]
    },
    {
     "data": {
      "text/plain": [
       "/zddrb/pgbgpn/vvmwgngv/ 6999588"
      ]
     },
     "execution_count": 5,
     "metadata": {},
     "output_type": "execute_result"
    }
   ],
   "source": [
    "import re\n",
    "from collections import deque\n",
    "\n",
    "data = open(\"input.txt\").read().splitlines()\n",
    "\n",
    "    \n",
    "fs = FS()\n",
    "\n",
    "for line in data:\n",
    "    #print(line)\n",
    "    parts = line.split()\n",
    "    if len(parts) > 2:\n",
    "        fs.cd(parts[2])\n",
    "    elif parts[1] == \"ls\":\n",
    "        continue\n",
    "    else:\n",
    "        fs.learn(line)\n",
    "\n",
    "total = 70000000\n",
    "unused = total - fs.root.size\n",
    "needed = 30000000 - unused\n",
    "print(f\"needed {needed} unused {unused}\")\n",
    "largest = None\n",
    "for node in fs.nodes.values():\n",
    "    if not node.isDir or node.size < needed:\n",
    "        continue\n",
    "    if not largest or largest.size > node.size:\n",
    "        largest = node\n",
    "    \n",
    "largest\n"
   ]
  }
 ],
 "metadata": {
  "kernelspec": {
   "display_name": "Python 3",
   "language": "python",
   "name": "python3"
  },
  "language_info": {
   "codemirror_mode": {
    "name": "ipython",
    "version": 3
   },
   "file_extension": ".py",
   "mimetype": "text/x-python",
   "name": "python",
   "nbconvert_exporter": "python",
   "pygments_lexer": "ipython3",
   "version": "3.11.0 (main, Oct 24 2022, 18:26:48) [MSC v.1933 64 bit (AMD64)]"
  },
  "orig_nbformat": 4,
  "vscode": {
   "interpreter": {
    "hash": "2e08becd2fb66981e99f43f59d267a76f406a764571e712c80c35314ff1ef65d"
   }
  }
 },
 "nbformat": 4,
 "nbformat_minor": 2
}
