{
 "cells": [
  {
   "cell_type": "code",
   "execution_count": null,
   "metadata": {},
   "outputs": [],
   "source": [
    "class Node():\n",
    "    size = 0\n",
    "    def __init__(self, name, size, parent):\n",
    "        self.parent = parent\n",
    "        self.name = name\n",
    "        self.size = size\n",
    "        self.isDir = size == 0\n",
    "        self.children = {}\n",
    "        if parent:\n",
    "            self.path = self.parent.path + self.name\n",
    "            if self.isDir:\n",
    "                self.path += \"/\"\n",
    "        else:\n",
    "           self.path = name\n",
    "    \n",
    "    def _increment_size(self, amount):\n",
    "        self.size += amount\n",
    "        if self.parent:\n",
    "            self.parent._increment_size(amount)\n",
    "\n",
    "    def add(self, node):\n",
    "        self.children[node.name] = node\n",
    "        self._increment_size(node.size)\n",
    "        return node\n",
    "\n",
    "    def path(self):\n",
    "\n",
    "\n",
    "        \n",
    "class FS():\n",
    "    def __init__(self):\n",
    "        self.root = Node(\"/\", None, None)\n",
    "        self.current = self.root\n",
    "        self.nodes = {\n",
    "            self.root.path(): self.root\n",
    "        }\n",
    "\n",
    "    def _cd(self, node):\n",
    "        print(f\"cd to {node.name}\")\n",
    "        self.current = node\n",
    "\n",
    "    def cd(self, name):\n",
    "        if self.current.name == name:\n",
    "            return\n",
    "        if name == \"..\" and self.current.parent:\n",
    "            self._cd(self.current.parent)\n",
    "            return\n",
    "\n",
    "        self._cd(self.current.children[name])\n",
    "\n",
    "    def learn(self, line: str):\n",
    "        kind, name = line.split()\n",
    "        size = int(kind) if kind.isdecimal() else 0\n",
    "        node = self.current.add(Node(name, size, self.current))\n",
    "        self.nodes[node.path()] = node\n",
    "    \n",
    "fs = FS()\n",
    "\n",
    "for line in data:\n",
    "\n"
   ]
  },
  {
   "cell_type": "code",
   "execution_count": 8,
   "metadata": {},
   "outputs": [
    {
     "name": "stdout",
     "output_type": "stream",
     "text": [
      "1658\n",
      "{'s', 'b', 'l', 'q'}\n"
     ]
    }
   ],
   "source": [
    "import re\n",
    "from collections import deque\n",
    "\n",
    "data = open(\"sample_input.txt\").read().splitlines()\n",
    "\n",
    "\n",
    "\n",
    "input = data[0]\n",
    "for i in range(3, len(input)):\n",
    "    chars = set()\n",
    "    for j in range(i - 3, i + 1):\n",
    "        chars.add(input[j])\n",
    "    if len(chars) == 4:\n",
    "        print(i+1)\n",
    "        print(chars)\n",
    "        break"
   ]
  },
  {
   "cell_type": "code",
   "execution_count": 13,
   "metadata": {},
   "outputs": [
    {
     "name": "stdout",
     "output_type": "stream",
     "text": [
      "2260\n",
      "ctlwqhfnbmgspr\n",
      "{'w', 'h', 'n', 'p', 'q', 'm', 'b', 'f', 's', 't', 'g', 'c', 'r', 'l'}\n"
     ]
    }
   ],
   "source": [
    "import re\n",
    "from collections import deque\n",
    "\n",
    "data = open(\"input.txt\").read().splitlines()\n",
    "input = data[0]\n",
    "length = 14\n",
    "for i in range(length, len(input)):\n",
    "    chars = set()\n",
    "    for j in range(i - length, i):\n",
    "        chars.add(input[j])\n",
    "    if len(chars) == length:\n",
    "        print(i)\n",
    "        print(input[i - length:i])\n",
    "        print(chars)\n",
    "        break"
   ]
  }
 ],
 "metadata": {
  "kernelspec": {
   "display_name": "Python 3.11.0 64-bit",
   "language": "python",
   "name": "python3"
  },
  "language_info": {
   "codemirror_mode": {
    "name": "ipython",
    "version": 3
   },
   "file_extension": ".py",
   "mimetype": "text/x-python",
   "name": "python",
   "nbconvert_exporter": "python",
   "pygments_lexer": "ipython3",
   "version": "3.11.0"
  },
  "orig_nbformat": 4,
  "vscode": {
   "interpreter": {
    "hash": "2e08becd2fb66981e99f43f59d267a76f406a764571e712c80c35314ff1ef65d"
   }
  }
 },
 "nbformat": 4,
 "nbformat_minor": 2
}
