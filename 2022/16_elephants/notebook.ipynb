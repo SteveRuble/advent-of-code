{
 "cells": [
  {
   "cell_type": "code",
   "execution_count": 2,
   "metadata": {},
   "outputs": [
    {
     "name": "stdout",
     "output_type": "stream",
     "text": [
      "AA @ 0 -> ['DD', 'II', 'BB'] and {'AA': 0, 'DD': 2, 'CC': 3, 'BB': 4, 'EE': 3, 'FF': 4, 'GG': 5, 'HH': 6, 'II': 2, 'JJ': 3}\n",
      "BB @ 13 -> ['CC', 'AA'] and {'BB': 0, 'CC': 2, 'DD': 3, 'AA': 4, 'II': 5, 'JJ': 6, 'EE': 4, 'FF': 5, 'GG': 6, 'HH': 7}\n",
      "CC @ 2 -> ['DD', 'BB'] and {'CC': 0, 'DD': 2, 'AA': 3, 'II': 4, 'JJ': 5, 'BB': 4, 'EE': 3, 'FF': 4, 'GG': 5, 'HH': 6}\n",
      "DD @ 20 -> ['CC', 'AA', 'EE'] and {'DD': 0, 'CC': 2, 'BB': 3, 'AA': 4, 'II': 5, 'JJ': 6, 'EE': 2, 'FF': 3, 'GG': 4, 'HH': 5}\n",
      "EE @ 3 -> ['FF', 'DD'] and {'EE': 0, 'FF': 2, 'GG': 3, 'HH': 4, 'DD': 2, 'CC': 3, 'BB': 4, 'AA': 5, 'II': 6, 'JJ': 7}\n",
      "FF @ 0 -> ['EE', 'GG'] and {'FF': 0, 'EE': 2, 'DD': 3, 'CC': 4, 'BB': 5, 'AA': 6, 'II': 7, 'JJ': 8, 'GG': 2, 'HH': 3}\n",
      "GG @ 0 -> ['FF', 'HH'] and {'GG': 0, 'FF': 2, 'EE': 3, 'DD': 4, 'CC': 5, 'BB': 6, 'AA': 7, 'II': 8, 'JJ': 9, 'HH': 2}\n",
      "HH @ 22 -> ['GG'] and {'HH': 0, 'GG': 2, 'FF': 3, 'EE': 4, 'DD': 5, 'CC': 6, 'BB': 7, 'AA': 8, 'II': 9, 'JJ': 10}\n",
      "II @ 0 -> ['AA', 'JJ'] and {'II': 0, 'AA': 2, 'DD': 3, 'CC': 4, 'BB': 5, 'EE': 4, 'FF': 5, 'GG': 6, 'HH': 7, 'JJ': 2}\n",
      "JJ @ 21 -> ['II'] and {'JJ': 0, 'II': 2, 'AA': 3, 'DD': 4, 'CC': 5, 'BB': 6, 'EE': 5, 'FF': 6, 'GG': 7, 'HH': 8}\n"
     ]
    }
   ],
   "source": [
    "import functools\n",
    "import operator\n",
    "import itertools\n",
    "import math\n",
    "import sys\n",
    "import json\n",
    "import re\n",
    "from typing import Tuple\n",
    "\n",
    "data = open(\"sample_input.txt\").read().splitlines()\n",
    "pattern = \"Valve (..) has flow rate=(\\d+); tunnels? leads? to valves? (.*)\"\n",
    "\n",
    "class Valve():\n",
    "    def __init__(self, line):\n",
    "        matches = re.match(pattern, line)\n",
    "        self.name = matches[1]\n",
    "        self.rate = int(matches[2])\n",
    "        self.tunnels = matches[3].split(\", \")\n",
    "        self.links = {}\n",
    "        self.paths = {self.name: []}\n",
    "        self.distances = {self.name: 0}\n",
    "        self.open = False\n",
    "    def link(self, valve_map):\n",
    "        self.map = valve_map\n",
    "        self.links = {n:valve_map[n] for n in self.tunnels}\n",
    "    def measure(self):\n",
    "        for v in self.links.values():\n",
    "            v._explore(self, [self.name])\n",
    "    def _explore(self, other, path):\n",
    "        path = path + [self.name]\n",
    "        dist = other.distances.get(self.name)\n",
    "        if not dist or dist < len(path):\n",
    "            other.distances[self.name] = len(path)\n",
    "            other.paths[self.name] = path\n",
    "            for v in self.links.values():\n",
    "                if v.name not in path:          \n",
    "                    v._explore(other, path)\n",
    "    def __repr__(self) -> str:\n",
    "        return f\"{self.name} @ {self.rate} -> {self.tunnels} and {self.distances}\"\n",
    "\n",
    "def show():\n",
    "    for v in valves:\n",
    "        print(v)   \n",
    "        \n",
    "valves = [Valve(line) for line in data]\n",
    "valve_map = {v.name : v for v in valves}\n",
    "distances = {}\n",
    "\n",
    "for v in valves:\n",
    "    v.link(valve_map)\n",
    "for v in valves:\n",
    "    v.measure()\n",
    "\n",
    "show()\n",
    "\n",
    "\n",
    "\n"
   ]
  },
  {
   "cell_type": "code",
   "execution_count": 6,
   "metadata": {},
   "outputs": [
    {
     "name": "stdout",
     "output_type": "stream",
     "text": [
      "['HH', 'JJ', 'DD', 'BB', 'EE', 'CC']\n",
      "['CC', 'EE', 'BB', 'HH', 'DD', 'JJ']\n"
     ]
    }
   ],
   "source": [
    "max_time = 30\n",
    "targets = [v.name for v in valves if v.rate > 0]\n",
    "targets.sort(key = lambda x : valve_map[x].rate, reverse = True)\n",
    "print(targets)\n",
    "\n",
    "targets.sort(key = lambda x : valve_map[x].rate * (30 - valve_map[\"AA\"].distances[x] + 1))\n",
    "print(targets)\n",
    "def score(start, end, time_remaining, cost, benefit):\n",
    "    cost = 0\n",
    "    benefit = 0\n",
    "    path = start.paths[end.name]\n",
    "    for v in path:\n",
    "        pass\n",
    "\n",
    "\n",
    "\n",
    "def part_1():\n",
    "    pass\n",
    "\n",
    "\n",
    "\n",
    "part_1()"
   ]
  }
 ],
 "metadata": {
  "kernelspec": {
   "display_name": "Python 3",
   "language": "python",
   "name": "python3"
  },
  "language_info": {
   "codemirror_mode": {
    "name": "ipython",
    "version": 3
   },
   "file_extension": ".py",
   "mimetype": "text/x-python",
   "name": "python",
   "nbconvert_exporter": "python",
   "pygments_lexer": "ipython3",
   "version": "3.11.0"
  },
  "orig_nbformat": 4,
  "vscode": {
   "interpreter": {
    "hash": "2e08becd2fb66981e99f43f59d267a76f406a764571e712c80c35314ff1ef65d"
   }
  }
 },
 "nbformat": 4,
 "nbformat_minor": 2
}
