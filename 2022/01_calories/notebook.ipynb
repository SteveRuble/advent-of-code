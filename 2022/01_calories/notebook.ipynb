{
 "cells": [
  {
   "cell_type": "code",
   "execution_count": 14,
   "metadata": {},
   "outputs": [
    {
     "name": "stdout",
     "output_type": "stream",
     "text": [
      "[71502, 68977, 67712]\n"
     ]
    },
    {
     "data": {
      "text/plain": [
       "208191"
      ]
     },
     "execution_count": 14,
     "metadata": {},
     "output_type": "execute_result"
    }
   ],
   "source": [
    "import heapq\n",
    "f = open(\"input.txt\")\n",
    "q = []\n",
    "def read():\n",
    "    \"\"\"returns the next line, stripped,\n",
    "     and a bool indicating if read is done\"\"\"\n",
    "    raw = f.readline()\n",
    "    return raw.strip(), raw != \"\"\n",
    "\n",
    "\n",
    "while(True):\n",
    "    line, ok = read()\n",
    "    if not ok: \n",
    "        break\n",
    "    total = int(line)\n",
    "    while(True):\n",
    "        line, ok = read()\n",
    "        if not ok or line == \"\":\n",
    "            heapq.heappush(q, total)\n",
    "            break\n",
    "        total += int(line)\n",
    "top = heapq.nlargest(3, q)\n",
    "print(top)\n",
    "\n",
    "sum(top)"
   ]
  }
 ],
 "metadata": {
  "kernelspec": {
   "display_name": "Python 3.11.0 64-bit",
   "language": "python",
   "name": "python3"
  },
  "language_info": {
   "codemirror_mode": {
    "name": "ipython",
    "version": 3
   },
   "file_extension": ".py",
   "mimetype": "text/x-python",
   "name": "python",
   "nbconvert_exporter": "python",
   "pygments_lexer": "ipython3",
   "version": "3.11.0"
  },
  "orig_nbformat": 4,
  "vscode": {
   "interpreter": {
    "hash": "2e08becd2fb66981e99f43f59d267a76f406a764571e712c80c35314ff1ef65d"
   }
  }
 },
 "nbformat": 4,
 "nbformat_minor": 2
}
