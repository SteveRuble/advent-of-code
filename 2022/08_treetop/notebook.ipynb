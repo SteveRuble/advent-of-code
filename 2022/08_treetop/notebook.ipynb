{
 "cells": [
  {
   "cell_type": "code",
   "execution_count": null,
   "metadata": {},
   "outputs": [],
   "source": [
    "import re\n",
    "from collections import deque\n",
    "\n",
    "data = open(\"input.txt\").read().splitlines()\n",
    "\n",
    "def get_visible_coords(heights, start, end, step, fn):\n",
    "    tallest = -1\n",
    "    for x in range(start, end, step):\n",
    "        height = heights[x]\n",
    "        if height > tallest:\n",
    "            yield fn(x)\n",
    "            tallest = height\n",
    "\n",
    "test = [3,0,3,7,3]\n",
    "print(test)\n",
    "print(list(get_visible_coords(test, 0, 5, 1, lambda x: (0,x))))\n",
    "\n",
    "height = len(data)\n",
    "width = len(data[0])\n",
    "rows = [[0 for y in range(width)] for x in range(height)]\n",
    "cols = [[0 for y in range(height)] for x in range(width)]\n",
    "\n",
    "for r in range(height):\n",
    "    for c in range(width):\n",
    "        rows[r][c] = int(data[r][c])\n",
    "        cols[c][r] = int(data[r][c])\n",
    "\n",
    "visible_coords = set()\n",
    "\n",
    "for r in range(height):\n",
    "    row = rows[r]\n",
    "    visible_coords.update(get_visible_coords(row, 0, width, 1, lambda c: (r,c)))\n",
    "    visible_coords.update(get_visible_coords(row, width-1, -1, -1, lambda c: (r,c)))\n",
    "\n",
    "for c in range(width):\n",
    "    col = cols[c]\n",
    "    visible_coords.update(get_visible_coords(col, 0, height, 1, lambda r: (r,c)))\n",
    "    visible_coords.update(get_visible_coords(col, height-1, -1, -1, lambda r: (r,c)))\n",
    "\n",
    "print(len(visible_coords))\n"
   ]
  },
  {
   "cell_type": "code",
   "execution_count": 43,
   "metadata": {},
   "outputs": [
    {
     "name": "stdout",
     "output_type": "stream",
     "text": [
      "1\n"
     ]
    },
    {
     "data": {
      "text/plain": [
       "157320"
      ]
     },
     "execution_count": 43,
     "metadata": {},
     "output_type": "execute_result"
    }
   ],
   "source": [
    "from typing import Tuple, List\n",
    "import functools\n",
    "\n",
    "data = open(\"input.txt\").read().splitlines()\n",
    "\n",
    "def coord_seq(start: Tuple[int,int], step: Tuple[int,int], max: Tuple[int,int]):\n",
    "    height, width = max\n",
    "    row, col = start\n",
    "    rowStep, colStep = step\n",
    " \n",
    "    while True:\n",
    "        row += rowStep\n",
    "        col += colStep   \n",
    "        if row >= 0 and col >= 0 and row < height and col < width:\n",
    "            yield (row, col)\n",
    "        else:\n",
    "            break\n",
    "\n",
    "directions = [\n",
    "    (0,1),\n",
    "    (0,-1),\n",
    "    (1,0),\n",
    "    (-1,0)\n",
    "]\n",
    "\n",
    "class Grid():\n",
    "    def __init__(self, data: List[str]) -> None:\n",
    "        self.height = len(data)\n",
    "        self.width = len(data[0])\n",
    "        self.max = (self.height, self.width)\n",
    "        self.data = data\n",
    "    def get(self, coords: Tuple[int,int]):\n",
    "        row, col = coords\n",
    "        return int(self.data[row][col])\n",
    "    def score(self, coords: Tuple[int,int]) -> int:\n",
    "        scores = [self.score_direction(coords, d) for d in directions]\n",
    "        return functools.reduce(lambda a,b : a*b, scores)\n",
    "    def score_direction(self, coords: Tuple[int,int], step:Tuple[int,int]) -> int:\n",
    "        height = self.get(coords)\n",
    "        count = 0\n",
    "        for c in coord_seq(coords, step, self.max):\n",
    "            h = self.get(c)\n",
    "            count += 1\n",
    "            if h >= height:\n",
    "                break\n",
    "        return count\n",
    "\n",
    "grid = Grid(data)\n",
    "\n",
    "max_score = 0\n",
    "for r in range(grid.height):\n",
    "    for c in range(grid.width):\n",
    "        score = grid.score((r,c))\n",
    "        if score > max_score:\n",
    "            max_score = score\n",
    "\n",
    "\n",
    "max_score\n",
    "\n"
   ]
  }
 ],
 "metadata": {
  "kernelspec": {
   "display_name": "Python 3.11.0 64-bit",
   "language": "python",
   "name": "python3"
  },
  "language_info": {
   "codemirror_mode": {
    "name": "ipython",
    "version": 3
   },
   "file_extension": ".py",
   "mimetype": "text/x-python",
   "name": "python",
   "nbconvert_exporter": "python",
   "pygments_lexer": "ipython3",
   "version": "3.11.0"
  },
  "orig_nbformat": 4,
  "vscode": {
   "interpreter": {
    "hash": "5c7b89af1651d0b8571dde13640ecdccf7d5a6204171d6ab33e7c296e100e08a"
   }
  }
 },
 "nbformat": 4,
 "nbformat_minor": 2
}
