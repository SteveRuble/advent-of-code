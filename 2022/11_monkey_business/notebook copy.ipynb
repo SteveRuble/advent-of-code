{
 "cells": [
  {
   "cell_type": "code",
   "execution_count": 11,
   "metadata": {},
   "outputs": [
    {
     "name": "stdout",
     "output_type": "stream",
     "text": [
      "[{'Monkey': 0, 'Starting items': '79, 98', 'Operation': 'new = old * 19', 'Test': 'divisible by 23', 'If true': 'throw to monkey 2', 'If false': 'throw to monkey 3', 'items': [79, 98]}, {'Monkey': 1, 'Starting items': '54, 65, 75, 74', 'Operation': 'new = old + 6', 'Test': 'divisible by 19', 'If true': 'throw to monkey 2', 'If false': 'throw to monkey 0', 'items': [54, 65, 75, 74]}, {'Monkey': 2, 'Starting items': '79, 60, 97', 'Operation': 'new = old * old', 'Test': 'divisible by 13', 'If true': 'throw to monkey 1', 'If false': 'throw to monkey 3', 'items': [79, 60, 97]}, {'Monkey': 3, 'Starting items': 74, 'Operation': 'new = old + 3', 'Test': 'divisible by 17', 'If true': 'throw to monkey 0', 'If false': 'throw to monkey 1', 'items': [74]}]\n",
      "1:[6, 10, 4, 10]\n",
      "21:[110, 106, 9, 115]\n"
     ]
    },
    {
     "ename": "OverflowError",
     "evalue": "integer division result too large for a float",
     "output_type": "error",
     "traceback": [
      "\u001b[0;31m---------------------------------------------------------------------------\u001b[0m",
      "\u001b[0;31mOverflowError\u001b[0m                             Traceback (most recent call last)",
      "\u001b[1;32m/Users/steve.ruble/src/github.com/SteveRuble/advent-of-code/2022/11_late/notebook copy.ipynb Cell 1\u001b[0m in \u001b[0;36m<cell line: 52>\u001b[0;34m()\u001b[0m\n\u001b[1;32m     <a href='vscode-notebook-cell:/Users/steve.ruble/src/github.com/SteveRuble/advent-of-code/2022/11_late/notebook%20copy.ipynb#W0sZmlsZQ%3D%3D?line=54'>55</a>\u001b[0m \u001b[39mfor\u001b[39;00m item \u001b[39min\u001b[39;00m monkey[\u001b[39m\"\u001b[39m\u001b[39mitems\u001b[39m\u001b[39m\"\u001b[39m]:\n\u001b[1;32m     <a href='vscode-notebook-cell:/Users/steve.ruble/src/github.com/SteveRuble/advent-of-code/2022/11_late/notebook%20copy.ipynb#W0sZmlsZQ%3D%3D?line=55'>56</a>\u001b[0m     counts[i] \u001b[39m+\u001b[39m\u001b[39m=\u001b[39m \u001b[39m1\u001b[39m\n\u001b[0;32m---> <a href='vscode-notebook-cell:/Users/steve.ruble/src/github.com/SteveRuble/advent-of-code/2022/11_late/notebook%20copy.ipynb#W0sZmlsZQ%3D%3D?line=56'>57</a>\u001b[0m     worry \u001b[39m=\u001b[39m next_worry(monkey, item, \u001b[39mround\u001b[39;49m)\n\u001b[1;32m     <a href='vscode-notebook-cell:/Users/steve.ruble/src/github.com/SteveRuble/advent-of-code/2022/11_late/notebook%20copy.ipynb#W0sZmlsZQ%3D%3D?line=57'>58</a>\u001b[0m     do \u001b[39m=\u001b[39m what_do(monkey, worry)\n\u001b[1;32m     <a href='vscode-notebook-cell:/Users/steve.ruble/src/github.com/SteveRuble/advent-of-code/2022/11_late/notebook%20copy.ipynb#W0sZmlsZQ%3D%3D?line=58'>59</a>\u001b[0m    \u001b[39m# print(f\"throw item {item} => {worry} to {do}\")\u001b[39;00m\n",
      "\u001b[1;32m/Users/steve.ruble/src/github.com/SteveRuble/advent-of-code/2022/11_late/notebook copy.ipynb Cell 1\u001b[0m in \u001b[0;36mnext_worry\u001b[0;34m(monkey, old, round)\u001b[0m\n\u001b[1;32m     <a href='vscode-notebook-cell:/Users/steve.ruble/src/github.com/SteveRuble/advent-of-code/2022/11_late/notebook%20copy.ipynb#W0sZmlsZQ%3D%3D?line=35'>36</a>\u001b[0m op \u001b[39m=\u001b[39m operators[op]\n\u001b[1;32m     <a href='vscode-notebook-cell:/Users/steve.ruble/src/github.com/SteveRuble/advent-of-code/2022/11_late/notebook%20copy.ipynb#W0sZmlsZQ%3D%3D?line=36'>37</a>\u001b[0m result \u001b[39m=\u001b[39mop(a,b)   \n\u001b[0;32m---> <a href='vscode-notebook-cell:/Users/steve.ruble/src/github.com/SteveRuble/advent-of-code/2022/11_late/notebook%20copy.ipynb#W0sZmlsZQ%3D%3D?line=37'>38</a>\u001b[0m result \u001b[39m=\u001b[39m  math\u001b[39m.\u001b[39mfloor(result\u001b[39m/\u001b[39;49m\u001b[39m3\u001b[39;49m)\n\u001b[1;32m     <a href='vscode-notebook-cell:/Users/steve.ruble/src/github.com/SteveRuble/advent-of-code/2022/11_late/notebook%20copy.ipynb#W0sZmlsZQ%3D%3D?line=38'>39</a>\u001b[0m \u001b[39m#print(f\"{monkey['Operation']} => {result}\")\u001b[39;00m\n\u001b[1;32m     <a href='vscode-notebook-cell:/Users/steve.ruble/src/github.com/SteveRuble/advent-of-code/2022/11_late/notebook%20copy.ipynb#W0sZmlsZQ%3D%3D?line=39'>40</a>\u001b[0m \u001b[39mreturn\u001b[39;00m result\n",
      "\u001b[0;31mOverflowError\u001b[0m: integer division result too large for a float"
     ]
    }
   ],
   "source": [
    "import functools\n",
    "import operator\n",
    "import itertools\n",
    "import yaml\n",
    "import math\n",
    "\n",
    "\n",
    "data = open(\"sample_input.txt\").read()\n",
    "data = data.replace(\"  If\", \"If\").replace(\"Monkey \", \"- Monkey: \")\n",
    "monkeys = yaml.safe_load(data)\n",
    "\n",
    "operators = {\n",
    "    \"+\": operator.add,\n",
    "    \"*\": operator.mul,\n",
    "}\n",
    "\n",
    "for monkey in monkeys:\n",
    "    items = monkey[\"Starting items\"]\n",
    "    if isinstance(items, int):\n",
    "        monkey[\"items\"] = [items]\n",
    "    else:\n",
    "        monkey[\"items\"] = [int(x) for x in monkey[\"Starting items\"].split(\", \")]\n",
    "\n",
    "print(monkeys)\n",
    "\n",
    "def next_worry(monkey, old, round):\n",
    "    n, e, a, op, b = monkey[\"Operation\"].split()\n",
    "    if a == \"old\":\n",
    "        a = old\n",
    "    else:\n",
    "        a = int(a)\n",
    "    if b == \"old\":\n",
    "        b = old\n",
    "    else:\n",
    "        b = int(b)\n",
    "    op = operators[op]\n",
    "    result =op(a,b)   \n",
    "    result =  math.floor(result/3)\n",
    "    #print(f\"{monkey['Operation']} => {result}\")\n",
    "    return result\n",
    "\n",
    "def what_do(monkey, worry):\n",
    "    n = int(monkey[\"Test\"].split()[2])\n",
    "    t = int(monkey[\"If true\"].split()[3])\n",
    "    f = int(monkey[\"If false\"].split()[3])\n",
    "\n",
    "    if worry % n == 0:\n",
    "        return t\n",
    "    return f\n",
    "\n",
    "counts = [0 for _ in monkeys]\n",
    "for round in range(0, 10000):\n",
    "\n",
    "  for i, monkey in enumerate(monkeys):\n",
    "    for item in monkey[\"items\"]:\n",
    "        counts[i] += 1\n",
    "        worry = next_worry(monkey, item, round)\n",
    "        do = what_do(monkey, worry)\n",
    "       # print(f\"throw item {item} => {worry} to {do}\")\n",
    "        monkeys[do][\"items\"].append(worry)\n",
    "    monkey[\"items\"].clear()\n",
    "\n",
    "  if round -1 == 20 or round - 1 % 100 == 0:\n",
    "    print(f\"{round}:{counts}\")\n",
    "\n",
    "\n",
    "print(counts)\n",
    "counts.sort(reverse=True)\n",
    "business = counts[0] * counts[1]\n",
    "print(business)\n",
    "\n"
   ]
  },
  {
   "cell_type": "code",
   "execution_count": null,
   "metadata": {},
   "outputs": [],
   "source": []
  },
  {
   "cell_type": "code",
   "execution_count": null,
   "metadata": {},
   "outputs": [],
   "source": []
  },
  {
   "cell_type": "code",
   "execution_count": null,
   "metadata": {},
   "outputs": [],
   "source": []
  },
  {
   "cell_type": "code",
   "execution_count": null,
   "metadata": {},
   "outputs": [],
   "source": []
  },
  {
   "cell_type": "code",
   "execution_count": 61,
   "metadata": {},
   "outputs": [
    {
     "name": "stdout",
     "output_type": "stream",
     "text": [
      "2533\n"
     ]
    }
   ],
   "source": []
  }
 ],
 "metadata": {
  "kernelspec": {
   "display_name": "Python 3.9.7 64-bit",
   "language": "python",
   "name": "python3"
  },
  "language_info": {
   "codemirror_mode": {
    "name": "ipython",
    "version": 3
   },
   "file_extension": ".py",
   "mimetype": "text/x-python",
   "name": "python",
   "nbconvert_exporter": "python",
   "pygments_lexer": "ipython3",
   "version": "3.9.7"
  },
  "orig_nbformat": 4,
  "vscode": {
   "interpreter": {
    "hash": "7f81e4c43d48f28c6da79efcf7f9418cb934eace88fd60d7dad5e6dafe5b4c16"
   }
  }
 },
 "nbformat": 4,
 "nbformat_minor": 2
}
