{
 "cells": [
  {
   "cell_type": "code",
   "execution_count": 41,
   "metadata": {},
   "outputs": [
    {
     "name": "stdout",
     "output_type": "stream",
     "text": [
      "[{'Monkey': 0, 'Starting items': '79, 98', 'Operation': 'new = old * 19', 'Test': 'divisible by 23', 'If true': 'throw to monkey 2', 'If false': 'throw to monkey 3', 'items': [79, 98]}, {'Monkey': 1, 'Starting items': '54, 65, 75, 74', 'Operation': 'new = old + 6', 'Test': 'divisible by 19', 'If true': 'throw to monkey 2', 'If false': 'throw to monkey 0', 'items': [54, 65, 75, 74]}, {'Monkey': 2, 'Starting items': '79, 60, 97', 'Operation': 'new = old * old', 'Test': 'divisible by 13', 'If true': 'throw to monkey 1', 'If false': 'throw to monkey 3', 'items': [79, 60, 97]}, {'Monkey': 3, 'Starting items': 74, 'Operation': 'new = old + 3', 'Test': 'divisible by 17', 'If true': 'throw to monkey 0', 'If false': 'throw to monkey 1', 'items': [74]}]\n",
      "{'Monkey': 0, 'Starting items': '79, 98', 'Operation': 'new = old * 19', 'Test': 'divisible by 23', 'If true': 'throw to monkey 2', 'If false': 'throw to monkey 3', 'items': [10, 12, 14, 26, 34]}\n",
      "{'Monkey': 1, 'Starting items': '54, 65, 75, 74', 'Operation': 'new = old + 6', 'Test': 'divisible by 19', 'If true': 'throw to monkey 2', 'If false': 'throw to monkey 0', 'items': [245, 93, 53, 199, 115]}\n",
      "{'Monkey': 2, 'Starting items': '79, 60, 97', 'Operation': 'new = old * old', 'Test': 'divisible by 13', 'If true': 'throw to monkey 1', 'If false': 'throw to monkey 3', 'items': []}\n",
      "{'Monkey': 3, 'Starting items': 74, 'Operation': 'new = old + 3', 'Test': 'divisible by 17', 'If true': 'throw to monkey 0', 'If false': 'throw to monkey 1', 'items': []}\n",
      "[101, 95, 7, 105]\n",
      "10605\n"
     ]
    }
   ],
   "source": [
    "import functools\n",
    "import operator\n",
    "import itertools\n",
    "import yaml\n",
    "import math\n",
    "\n",
    "data = open(\"sample_input.txt\").read()\n",
    "data = data.replace(\"  If\", \"If\").replace(\"Monkey \", \"- Monkey: \")\n",
    "monkeys = yaml.safe_load(data)\n",
    "\n",
    "operators = {\n",
    "    \"+\": operator.add,\n",
    "    \"*\": operator.mul,\n",
    "}\n",
    "\n",
    "for monkey in monkeys:\n",
    "    items = monkey[\"Starting items\"]\n",
    "    if isinstance(items, int):\n",
    "        monkey[\"items\"] = [items]\n",
    "    else:\n",
    "        monkey[\"items\"] = [int(x) for x in monkey[\"Starting items\"].split(\", \")]\n",
    "\n",
    "print(monkeys)\n",
    "\n",
    "def next_worry(monkey, old):\n",
    "    n, e, a, op, b = monkey[\"Operation\"].split()\n",
    "    if a == \"old\":\n",
    "        a = old\n",
    "    else:\n",
    "        a = int(a)\n",
    "    if b == \"old\":\n",
    "        b = old\n",
    "    else:\n",
    "        b = int(b)\n",
    "    op = operators[op]\n",
    "    result = math.floor(op(a,b)/3)\n",
    "    #print(f\"{monkey['Operation']} => {result}\")\n",
    "    return result\n",
    "\n",
    "def what_do(monkey, worry):\n",
    "    n = int(monkey[\"Test\"].split()[2])\n",
    "    t = int(monkey[\"If true\"].split()[3])\n",
    "    f = int(monkey[\"If false\"].split()[3])\n",
    "\n",
    "    if worry % n == 0:\n",
    "        return t\n",
    "    return f\n",
    "\n",
    "counts = [0 for _ in monkeys]\n",
    "\n",
    "for round in range(0, 20):\n",
    "  for i, monkey in enumerate(monkeys):\n",
    "    for item in monkey[\"items\"]:\n",
    "        counts[i] += 1\n",
    "        worry = next_worry(monkey, item)\n",
    "        do = what_do(monkey, worry)\n",
    "       # print(f\"throw item {item} => {worry} to {do}\")\n",
    "        monkeys[do][\"items\"].append(worry)\n",
    "    monkey[\"items\"].clear()\n",
    "\n",
    "for monkey in monkeys:\n",
    "    print(monkey)\n",
    "print(counts)\n",
    "counts.sort(reverse=True)\n",
    "business = counts[0] * counts[1]\n",
    "print(business)\n",
    "\n"
   ]
  },
  {
   "cell_type": "code",
   "execution_count": null,
   "metadata": {},
   "outputs": [],
   "source": []
  },
  {
   "cell_type": "code",
   "execution_count": null,
   "metadata": {},
   "outputs": [],
   "source": []
  },
  {
   "cell_type": "code",
   "execution_count": null,
   "metadata": {},
   "outputs": [],
   "source": []
  },
  {
   "cell_type": "code",
   "execution_count": 61,
   "metadata": {},
   "outputs": [
    {
     "name": "stdout",
     "output_type": "stream",
     "text": [
      "2533\n"
     ]
    }
   ],
   "source": []
  }
 ],
 "metadata": {
  "kernelspec": {
   "display_name": "Python 3.11.0 64-bit",
   "language": "python",
   "name": "python3"
  },
  "language_info": {
   "codemirror_mode": {
    "name": "ipython",
    "version": 3
   },
   "file_extension": ".py",
   "mimetype": "text/x-python",
   "name": "python",
   "nbconvert_exporter": "python",
   "pygments_lexer": "ipython3",
   "version": "3.11.0"
  },
  "orig_nbformat": 4,
  "vscode": {
   "interpreter": {
    "hash": "5c7b89af1651d0b8571dde13640ecdccf7d5a6204171d6ab33e7c296e100e08a"
   }
  }
 },
 "nbformat": 4,
 "nbformat_minor": 2
}
