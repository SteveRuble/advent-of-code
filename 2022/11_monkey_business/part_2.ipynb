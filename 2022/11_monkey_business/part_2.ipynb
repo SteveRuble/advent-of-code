{
 "cells": [
  {
   "cell_type": "code",
   "execution_count": 11,
   "metadata": {},
   "outputs": [
    {
     "name": "stdout",
     "output_type": "stream",
     "text": [
      "[52166, 47830, 1938, 52013]\n",
      "2713310158\n"
     ]
    }
   ],
   "source": [
    "import functools\n",
    "import operator\n",
    "import itertools\n",
    "import yaml\n",
    "import math\n",
    "import re\n",
    "\n",
    "data = open(\"sample_input.txt\").read()\n",
    "data = data.replace(\"  If\", \"If\").replace(\"Monkey \", \"- Monkey: \") # flatten and make array\n",
    "data = re.sub(\":\\s?$\", \"\", data, flags=re.MULTILINE) # no trailing :\n",
    "monkeys = yaml.safe_load(data)\n",
    "\n",
    "operators = {\n",
    "    \"+\": operator.add,\n",
    "    \"*\": operator.mul,\n",
    "}\n",
    "\n",
    "for monkey in monkeys:\n",
    "    items = monkey[\"Starting items\"]\n",
    "    if isinstance(items, int):\n",
    "        monkey[\"items\"] = [items]\n",
    "    else:\n",
    "        monkey[\"items\"] = [int(x) for x in monkey[\"Starting items\"].split(\", \")]\n",
    "\n",
    "# Need to limit the size of worry; luckily all decisions are made\n",
    "# based on prime divisibility so we can create a finite field.\n",
    "modulus = functools.reduce(operator.mul, [int(monkey[\"Test\"].split()[2]) for monkey in monkeys])\n",
    "\n",
    "def next_worry(monkey, old):\n",
    "    a, op, b = monkey[\"Operation\"].split()[2:]\n",
    "    if a == \"old\":\n",
    "        a = old\n",
    "    else:\n",
    "        a = int(a)\n",
    "    if b == \"old\":\n",
    "        b = old\n",
    "    else:\n",
    "        b = int(b)\n",
    "    op = operators[op]\n",
    "    result =op(a,b)\n",
    "    result = result % modulus\n",
    "    return result\n",
    "\n",
    "def what_do(monkey, worry):\n",
    "    n = int(monkey[\"Test\"].split()[2])\n",
    "    t = int(monkey[\"If true\"].split()[3])\n",
    "    f = int(monkey[\"If false\"].split()[3])\n",
    "    return t if worry % n == 0 else f\n",
    "\n",
    "counts = [0 for _ in monkeys]\n",
    "for round in range(1, 10001):\n",
    "    for i, monkey in enumerate(monkeys):\n",
    "        for item in monkey[\"items\"]:\n",
    "            counts[i] += 1\n",
    "            worry = next_worry(monkey, item)\n",
    "            do = what_do(monkey, worry)\n",
    "            monkeys[do][\"items\"].append(worry)\n",
    "        monkey[\"items\"].clear()\n",
    "\n",
    "print(counts)\n",
    "counts.sort(reverse=True)\n",
    "business = counts[0] * counts[1]\n",
    "print(business)\n",
    "\n"
   ]
  },
  {
   "cell_type": "code",
   "execution_count": null,
   "metadata": {},
   "outputs": [],
   "source": []
  },
  {
   "cell_type": "code",
   "execution_count": null,
   "metadata": {},
   "outputs": [],
   "source": []
  },
  {
   "cell_type": "code",
   "execution_count": null,
   "metadata": {},
   "outputs": [],
   "source": []
  },
  {
   "cell_type": "code",
   "execution_count": null,
   "metadata": {},
   "outputs": [],
   "source": []
  },
  {
   "cell_type": "code",
   "execution_count": null,
   "metadata": {},
   "outputs": [],
   "source": []
  },
  {
   "cell_type": "code",
   "execution_count": null,
   "metadata": {},
   "outputs": [],
   "source": []
  },
  {
   "cell_type": "code",
   "execution_count": null,
   "metadata": {},
   "outputs": [],
   "source": []
  },
  {
   "cell_type": "code",
   "execution_count": null,
   "metadata": {},
   "outputs": [],
   "source": []
  },
  {
   "cell_type": "code",
   "execution_count": 61,
   "metadata": {},
   "outputs": [
    {
     "name": "stdout",
     "output_type": "stream",
     "text": [
      "2533\n"
     ]
    }
   ],
   "source": []
  }
 ],
 "metadata": {
  "kernelspec": {
   "display_name": "Python 3.9.7 64-bit",
   "language": "python",
   "name": "python3"
  },
  "language_info": {
   "codemirror_mode": {
    "name": "ipython",
    "version": 3
   },
   "file_extension": ".py",
   "mimetype": "text/x-python",
   "name": "python",
   "nbconvert_exporter": "python",
   "pygments_lexer": "ipython3",
   "version": "3.9.7"
  },
  "orig_nbformat": 4,
  "vscode": {
   "interpreter": {
    "hash": "7f81e4c43d48f28c6da79efcf7f9418cb934eace88fd60d7dad5e6dafe5b4c16"
   }
  }
 },
 "nbformat": 4,
 "nbformat_minor": 2
}
