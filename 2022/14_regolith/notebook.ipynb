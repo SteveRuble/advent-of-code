{
 "cells": [
  {
   "cell_type": "code",
   "execution_count": 12,
   "metadata": {},
   "outputs": [
    {
     "name": "stdout",
     "output_type": "stream",
     "text": [
      "[(-1, -1), (-1, 0), (-1, 1), (0, 0), (0, 1), (1, 1)]\n",
      "[[(498, 4), (498, 6), (496, 6)], [(498, 4), (498, 6), (496, 6)], [(498, 4), (498, 6), (496, 6)], [(503, 4), (502, 4), (502, 9), (494, 9)], [(503, 4), (502, 4), (502, 9), (494, 9)], [(503, 4), (502, 4), (502, 9), (494, 9)], [(503, 4), (502, 4), (502, 9), (494, 9)]]\n"
     ]
    }
   ],
   "source": [
    "import functools\n",
    "import operator\n",
    "import itertools\n",
    "import math\n",
    "import sys\n",
    "import json\n",
    "import re\n",
    "\n",
    "data = open(\"sample_input.txt\").read()\n",
    "lines = []\n",
    "min_x = math.inf\n",
    "min_y = math.inf\n",
    "max_x = 0\n",
    "max_y = 0\n",
    "nums = [int(n) for n in re.sub(\"\\D\", \"\\n\", data).split()]\n",
    "for n in nums:\n",
    "    if n < 400:\n",
    "        min_y = min(min_y, n)\n",
    "        max_y = max(max_y, n)\n",
    "    else:\n",
    "        min_x = min(min_x, n)\n",
    "        max_x = max(max_x, n)\n",
    "\n",
    "edges_spatial = {}\n",
    "edges_kinetic = {}\n",
    "\n",
    "def link(edges, from_c, to_c):\n",
    "    ls = edges.get(from_c, [])\n",
    "    ls.append(to_c)\n",
    "    edges[from_c] = ls\n",
    "\n",
    "def add_coords(a,b):\n",
    "    return (a[0]+b[0],a[1]+b[1])\n",
    "\n",
    "def unlink(a, b):\n",
    "    if b in a:\n",
    "        edges_kinetic[a].remove(b)\n",
    "\n",
    "directions = [\n",
    "    (-1,-1),(0,-1),(1,-1),\n",
    "    (-1,0),        (1,0),\n",
    "    (-1,1), (0,1), (1,1)\n",
    "]\n",
    "\n",
    "for x in range(min_x, max_x+1):\n",
    "    for y in range(min_y, max_y+1):\n",
    "        coords = (x,y)\n",
    "        edges_spatial[coords] = []\n",
    "        edges_kinetic[coords] = [\n",
    "            add_coords(coords, (0, 1)),\n",
    "            add_coords(coords, (-1, 1)),\n",
    "            add_coords(coords, (1, 1)),\n",
    "        ]\n",
    "        for dir in directions:\n",
    "            edges_spatial[coords].append(add_coords(coords, dir))\n",
    "\n",
    "for line in data.splitlines():\n",
    "    nums = [int(n) for n in re.sub(\"\\D\", \"\\n\", line).split()]\n",
    "    pairs = [(nums[i], nums[i+1]) for i in range(0, len(nums), 2)]\n",
    "    x,y = pairs[0]\n",
    "    for x2, y2 in pairs[1:]:\n",
    "        for dx in range(x, x2+1):\n",
    "            for dy in range(y, y2+1):\n",
    "\n",
    "\n",
    "        lines.append(pairs)\n",
    "\n",
    "\n",
    "print(lines)\n",
    "\n",
    "\n",
    "\n"
   ]
  }
 ],
 "metadata": {
  "kernelspec": {
   "display_name": "Python 3.11.0 64-bit",
   "language": "python",
   "name": "python3"
  },
  "language_info": {
   "codemirror_mode": {
    "name": "ipython",
    "version": 3
   },
   "file_extension": ".py",
   "mimetype": "text/x-python",
   "name": "python",
   "nbconvert_exporter": "python",
   "pygments_lexer": "ipython3",
   "version": "3.11.0"
  },
  "orig_nbformat": 4,
  "vscode": {
   "interpreter": {
    "hash": "2e08becd2fb66981e99f43f59d267a76f406a764571e712c80c35314ff1ef65d"
   }
  }
 },
 "nbformat": 4,
 "nbformat_minor": 2
}
