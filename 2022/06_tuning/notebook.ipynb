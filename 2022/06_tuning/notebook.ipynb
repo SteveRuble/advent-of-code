{
 "cells": [
  {
   "cell_type": "code",
   "execution_count": 8,
   "metadata": {},
   "outputs": [
    {
     "name": "stdout",
     "output_type": "stream",
     "text": [
      "1658\n",
      "{'s', 'b', 'l', 'q'}\n"
     ]
    }
   ],
   "source": [
    "import re\n",
    "from collections import deque\n",
    "\n",
    "data = open(\"input.txt\").read().splitlines()\n",
    "input = data[0]\n",
    "for i in range(3, len(input)):\n",
    "    chars = set()\n",
    "    for j in range(i - 3, i + 1):\n",
    "        chars.add(input[j])\n",
    "    if len(chars) == 4:\n",
    "        print(i+1)\n",
    "        print(chars)\n",
    "        break"
   ]
  },
  {
   "cell_type": "code",
   "execution_count": 13,
   "metadata": {},
   "outputs": [
    {
     "name": "stdout",
     "output_type": "stream",
     "text": [
      "2260\n",
      "ctlwqhfnbmgspr\n",
      "{'w', 'h', 'n', 'p', 'q', 'm', 'b', 'f', 's', 't', 'g', 'c', 'r', 'l'}\n"
     ]
    }
   ],
   "source": [
    "import re\n",
    "from collections import deque\n",
    "\n",
    "data = open(\"input.txt\").read().splitlines()\n",
    "input = data[0]\n",
    "length = 14\n",
    "for i in range(length, len(input)):\n",
    "    chars = set()\n",
    "    for j in range(i - length, i):\n",
    "        chars.add(input[j])\n",
    "    if len(chars) == length:\n",
    "        print(i)\n",
    "        print(input[i - length:i])\n",
    "        print(chars)\n",
    "        break"
   ]
  }
 ],
 "metadata": {
  "kernelspec": {
   "display_name": "Python 3.11.0 64-bit",
   "language": "python",
   "name": "python3"
  },
  "language_info": {
   "codemirror_mode": {
    "name": "ipython",
    "version": 3
   },
   "file_extension": ".py",
   "mimetype": "text/x-python",
   "name": "python",
   "nbconvert_exporter": "python",
   "pygments_lexer": "ipython3",
   "version": "3.11.0"
  },
  "orig_nbformat": 4,
  "vscode": {
   "interpreter": {
    "hash": "2e08becd2fb66981e99f43f59d267a76f406a764571e712c80c35314ff1ef65d"
   }
  }
 },
 "nbformat": 4,
 "nbformat_minor": 2
}
