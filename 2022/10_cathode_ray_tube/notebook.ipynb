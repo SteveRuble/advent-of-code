{
 "cells": [
  {
   "cell_type": "code",
   "execution_count": 7,
   "metadata": {},
   "outputs": [
    {
     "name": "stdout",
     "output_type": "stream",
     "text": [
      "███...██..█....███..███..████..██..█..█.\n",
      "█..█.█..█.█....█..█.█..█....█.█..█.█..█.\n",
      "█..█.█....█....█..█.███....█..█..█.█..█.\n",
      "███..█.██.█....███..█..█..█...████.█..█.\n",
      "█.█..█..█.█....█.█..█..█.█....█..█.█..█.\n",
      "█..█..███.████.█..█.███..████.█..█..██..\n",
      "."
     ]
    }
   ],
   "source": [
    "import itertools\n",
    "import operator\n",
    "data = open(\"input.txt\").read().split()\n",
    "reduced = itertools.accumulate( \n",
    "    [int(x) if x.strip(\"-\").isnumeric() else 0 for x in data],\n",
    "    initial = 1\n",
    ")\n",
    "for i, x in [(i%40,x) for i,x in enumerate(reduced)]:\n",
    "    print(\"█\" if abs(x - i) < 2 else \".\", end=\"\\n\" if i == 39 else \"\")\n",
    "        "
   ]
  },
  {
   "cell_type": "code",
   "execution_count": 61,
   "metadata": {},
   "outputs": [
    {
     "name": "stdout",
     "output_type": "stream",
     "text": [
      "2533\n"
     ]
    }
   ],
   "source": []
  }
 ],
 "metadata": {
  "kernelspec": {
   "display_name": "Python 3.11.0 64-bit",
   "language": "python",
   "name": "python3"
  },
  "language_info": {
   "codemirror_mode": {
    "name": "ipython",
    "version": 3
   },
   "file_extension": ".py",
   "mimetype": "text/x-python",
   "name": "python",
   "nbconvert_exporter": "python",
   "pygments_lexer": "ipython3",
   "version": "3.11.0"
  },
  "orig_nbformat": 4,
  "vscode": {
   "interpreter": {
    "hash": "5c7b89af1651d0b8571dde13640ecdccf7d5a6204171d6ab33e7c296e100e08a"
   }
  }
 },
 "nbformat": 4,
 "nbformat_minor": 2
}
