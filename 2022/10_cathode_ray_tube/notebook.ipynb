{
 "cells": [
  {
   "cell_type": "code",
   "execution_count": 76,
   "metadata": {},
   "outputs": [],
   "source": [
    "data = open(\"sample_input.txt\").read().splitlines()\n",
    "\n",
    "def register_values(commands):\n",
    "    x = 1\n",
    "    #yield x\n",
    "    for i, command in enumerate(commands):\n",
    "        if command == \"noop\":         \n",
    "            yield x\n",
    "        else:\n",
    "            _, amount = command.split()                       \n",
    "            yield x\n",
    "            yield x\n",
    "            x += int(amount)\n",
    " \n",
    "\n",
    "def interesting_values():\n",
    "    x = 20\n",
    "    while True:\n",
    "        yield x\n",
    "        x += 40\n"
   ]
  },
  {
   "cell_type": "code",
   "execution_count": 83,
   "metadata": {},
   "outputs": [
    {
     "name": "stdout",
     "output_type": "stream",
     "text": [
      "██  ██  ██  ██  ██  ██  ██  ██  ██  ██  \n",
      "███   ███   ███   ███   ███   ███   ███ \n",
      "████    ████    ████    ████    ████    \n",
      "█████     █████     █████     █████     \n",
      "██████      ██████      ██████      ████\n",
      "███████       ███████       ███████     \n"
     ]
    }
   ],
   "source": [
    "import math\n",
    "\n",
    "def render(crt_pos, sprite_pos):\n",
    "    #print(f\"crt:{crt_pos},sprite:{sprite_pos}\")\n",
    "    if abs(sprite_pos - crt_pos) < 2:\n",
    "        return \"█\"\n",
    "    else:\n",
    "        return \" \"\n",
    "\n",
    "x = register_values(data)\n",
    "crt = [[\".\"]*40 for _ in range(6)]\n",
    "for row in crt:\n",
    "    for i in range(len(row)):\n",
    "        row[i] = render(i, next(x))\n",
    "\n",
    "for row in crt:\n",
    "    print(\"\".join(row))\n",
    "        \n"
   ]
  },
  {
   "cell_type": "code",
   "execution_count": 61,
   "metadata": {},
   "outputs": [
    {
     "name": "stdout",
     "output_type": "stream",
     "text": [
      "2533\n"
     ]
    }
   ],
   "source": []
  }
 ],
 "metadata": {
  "kernelspec": {
   "display_name": "Python 3.11.0 64-bit",
   "language": "python",
   "name": "python3"
  },
  "language_info": {
   "codemirror_mode": {
    "name": "ipython",
    "version": 3
   },
   "file_extension": ".py",
   "mimetype": "text/x-python",
   "name": "python",
   "nbconvert_exporter": "python",
   "pygments_lexer": "ipython3",
   "version": "3.11.0"
  },
  "orig_nbformat": 4,
  "vscode": {
   "interpreter": {
    "hash": "2e08becd2fb66981e99f43f59d267a76f406a764571e712c80c35314ff1ef65d"
   }
  }
 },
 "nbformat": 4,
 "nbformat_minor": 2
}
