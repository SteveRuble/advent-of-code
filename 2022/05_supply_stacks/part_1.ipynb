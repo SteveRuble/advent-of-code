{
 "cells": [
  {
   "cell_type": "code",
   "execution_count": 45,
   "metadata": {},
   "outputs": [
    {
     "ename": "FileNotFoundError",
     "evalue": "[Errno 2] No such file or directory: 'sampleinput.txt'",
     "output_type": "error",
     "traceback": [
      "\u001b[1;31m---------------------------------------------------------------------------\u001b[0m",
      "\u001b[1;31mFileNotFoundError\u001b[0m                         Traceback (most recent call last)",
      "Cell \u001b[1;32mIn[45], line 4\u001b[0m\n\u001b[0;32m      1\u001b[0m \u001b[38;5;28;01mimport\u001b[39;00m \u001b[38;5;21;01mre\u001b[39;00m\n\u001b[0;32m      2\u001b[0m \u001b[38;5;28;01mfrom\u001b[39;00m \u001b[38;5;21;01mcollections\u001b[39;00m \u001b[38;5;28;01mimport\u001b[39;00m deque\n\u001b[1;32m----> 4\u001b[0m data \u001b[38;5;241m=\u001b[39m \u001b[38;5;28;43mopen\u001b[39;49m\u001b[43m(\u001b[49m\u001b[38;5;124;43m\"\u001b[39;49m\u001b[38;5;124;43msampleinput.txt\u001b[39;49m\u001b[38;5;124;43m\"\u001b[39;49m\u001b[43m)\u001b[49m\u001b[38;5;241m.\u001b[39mread()\u001b[38;5;241m.\u001b[39msplitlines()\n\u001b[0;32m      7\u001b[0m stacks \u001b[38;5;241m=\u001b[39m {}\n\u001b[0;32m      9\u001b[0m \u001b[38;5;28;01mdef\u001b[39;00m \u001b[38;5;21mrecord\u001b[39m(index, item: \u001b[38;5;28mstr\u001b[39m):\n",
      "File \u001b[1;32m~\\AppData\\Roaming\\Python\\Python311\\site-packages\\IPython\\core\\interactiveshell.py:282\u001b[0m, in \u001b[0;36m_modified_open\u001b[1;34m(file, *args, **kwargs)\u001b[0m\n\u001b[0;32m    275\u001b[0m \u001b[39mif\u001b[39;00m file \u001b[39min\u001b[39;00m {\u001b[39m0\u001b[39m, \u001b[39m1\u001b[39m, \u001b[39m2\u001b[39m}:\n\u001b[0;32m    276\u001b[0m     \u001b[39mraise\u001b[39;00m \u001b[39mValueError\u001b[39;00m(\n\u001b[0;32m    277\u001b[0m         \u001b[39mf\u001b[39m\u001b[39m\"\u001b[39m\u001b[39mIPython won\u001b[39m\u001b[39m'\u001b[39m\u001b[39mt let you open fd=\u001b[39m\u001b[39m{\u001b[39;00mfile\u001b[39m}\u001b[39;00m\u001b[39m by default \u001b[39m\u001b[39m\"\u001b[39m\n\u001b[0;32m    278\u001b[0m         \u001b[39m\"\u001b[39m\u001b[39mas it is likely to crash IPython. If you know what you are doing, \u001b[39m\u001b[39m\"\u001b[39m\n\u001b[0;32m    279\u001b[0m         \u001b[39m\"\u001b[39m\u001b[39myou can use builtins\u001b[39m\u001b[39m'\u001b[39m\u001b[39m open.\u001b[39m\u001b[39m\"\u001b[39m\n\u001b[0;32m    280\u001b[0m     )\n\u001b[1;32m--> 282\u001b[0m \u001b[39mreturn\u001b[39;00m io_open(file, \u001b[39m*\u001b[39;49margs, \u001b[39m*\u001b[39;49m\u001b[39m*\u001b[39;49mkwargs)\n",
      "\u001b[1;31mFileNotFoundError\u001b[0m: [Errno 2] No such file or directory: 'sampleinput.txt'"
     ]
    }
   ],
   "source": [
    "import re\n",
    "from collections import deque\n",
    "\n",
    "data = open(\"input.txt\").read().splitlines()\n",
    "\n",
    "\n",
    "stacks = {}\n",
    "\n",
    "def record(index, item: str):\n",
    "    stack = stacks.get(index)\n",
    "    if not stack:\n",
    "        stack = deque()\n",
    "        stacks[index] = stack\n",
    "    if item != \"   \":\n",
    "        stack.appendleft(item.strip(\"[]\"))\n",
    "        \n",
    "stackPattern = re.compile(r\"((   )|(\\[.\\])) ?\")\n",
    "\n",
    "lineIndex = 0\n",
    "for line in data:\n",
    "    lineIndex+=1\n",
    "    if line == \"\":\n",
    "        break\n",
    "    index = 1\n",
    "    for match in stackPattern.finditer(line):\n",
    "        record(index, match.group(1))\n",
    "        index+=1\n",
    "def dump():\n",
    "    for x in range(1, len(stacks)+1):\n",
    "      print(x, stacks[x])\n",
    "\n",
    "dump()\n",
    "commandPattern = re.compile(\"move (\\d+) from (\\d+) to (\\d+)\")\n",
    "for line in data[lineIndex:]:\n",
    "    print(line)\n",
    "    count, fromIndex, toIndex = commandPattern.findall(line)[0]\n",
    "    #print(f\"c:{count},from:{fromIndex},to:{toIndex}\")\n",
    "\n",
    "    fromStack = stacks[int(fromIndex)]\n",
    "    toStack = stacks[int(toIndex)]\n",
    "    for x in range(int(count)):\n",
    "        toStack.append(fromStack.pop())\n",
    "    #dump()\n",
    "\n",
    "dump()\n",
    "\n",
    "out = \"\"\n",
    "for x in range(1, len(stacks)+1):\n",
    "    out += stacks[x].pop()\n",
    "\n",
    "out"
   ]
  },
  {
   "cell_type": "code",
   "execution_count": null,
   "metadata": {},
   "outputs": [],
   "source": []
  }
 ],
 "metadata": {
  "kernelspec": {
   "display_name": "Python 3.11.0 64-bit",
   "language": "python",
   "name": "python3"
  },
  "language_info": {
   "codemirror_mode": {
    "name": "ipython",
    "version": 3
   },
   "file_extension": ".py",
   "mimetype": "text/x-python",
   "name": "python",
   "nbconvert_exporter": "python",
   "pygments_lexer": "ipython3",
   "version": "3.11.0"
  },
  "orig_nbformat": 4,
  "vscode": {
   "interpreter": {
    "hash": "2e08becd2fb66981e99f43f59d267a76f406a764571e712c80c35314ff1ef65d"
   }
  }
 },
 "nbformat": 4,
 "nbformat_minor": 2
}
