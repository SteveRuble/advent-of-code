{
 "cells": [
  {
   "cell_type": "code",
   "execution_count": 5,
   "metadata": {},
   "outputs": [
    {
     "name": "stdout",
     "output_type": "stream",
     "text": [
      "distance from start: 350\n",
      "distance from a: 349\n"
     ]
    }
   ],
   "source": [
    "import functools\n",
    "import operator\n",
    "import itertools\n",
    "import math\n",
    "import sys\n",
    "import numpy as np\n",
    "\n",
    "data = open(\"input.txt\").readlines()\n",
    "\n",
    "graph = {}\n",
    "\n",
    "directions = [\n",
    "    (0,1),\n",
    "    (0,-1),\n",
    "    (1,0),\n",
    "    (-1,0)\n",
    "]\n",
    "\n",
    "class Node():\n",
    "    def __init__(self, coords, label):\n",
    "        self.coords = coords\n",
    "        self.label = label\n",
    "        self.height = get_height(label)\n",
    "        self.forward = []\n",
    "        self.backward = []\n",
    "        self.distance_from_end = math.inf\n",
    "    def wire(self, graph):\n",
    "        for d in directions:\n",
    "            next_node = graph.get(tuple(np.add(d, self.coords)))\n",
    "            if not next_node:\n",
    "                continue\n",
    "            if next_node.height <= self.height + 1:\n",
    "                self.forward.append(next_node)\n",
    "            if self.height <= next_node.height + 1:\n",
    "                self.backward.append(next_node)\n",
    "    def score_distance_from_end(self, score):\n",
    "        if self.distance_from_end <= score:\n",
    "            return\n",
    "\n",
    "        self.distance_from_end = score\n",
    "        for node in self.backward:\n",
    "            node.score_distance_from_end(score + 1)\n",
    "\n",
    "def get_height(char):\n",
    "    if char == \"S\":\n",
    "        return ord('a')\n",
    "    if char == \"E\":\n",
    "        return ord('z')\n",
    "    return ord(char)\n",
    "\n",
    "start = None\n",
    "end = None\n",
    "\n",
    "for r, row in enumerate(data):\n",
    "    for c, char in enumerate(row):\n",
    "        pos = (r,c)\n",
    "        node = Node(pos, char)\n",
    "        if char == \"S\":\n",
    "            start = node\n",
    "        if char == \"E\":\n",
    "            end = node\n",
    "        graph[pos] = node\n",
    "\n",
    "\n",
    "for v in graph.values():\n",
    "    v.wire(graph)\n",
    "\n",
    "end.score_distance_from_end(0)\n",
    "print(f\"distance from start: {start.distance_from_end}\")\n",
    "\n",
    "shortest_from_a = min([n.distance_from_end for n in graph.values() if n.label == \"a\"])\n",
    "\n",
    "print(f\"distance from a: {shortest_from_a}\")\n",
    "\n",
    "\n",
    "\n",
    "\n"
   ]
  },
  {
   "cell_type": "code",
   "execution_count": null,
   "metadata": {},
   "outputs": [],
   "source": []
  },
  {
   "cell_type": "code",
   "execution_count": null,
   "metadata": {},
   "outputs": [],
   "source": []
  },
  {
   "cell_type": "code",
   "execution_count": null,
   "metadata": {},
   "outputs": [],
   "source": []
  }
 ],
 "metadata": {
  "kernelspec": {
   "display_name": "Python 3.9.7 64-bit",
   "language": "python",
   "name": "python3"
  },
  "language_info": {
   "codemirror_mode": {
    "name": "ipython",
    "version": 3
   },
   "file_extension": ".py",
   "mimetype": "text/x-python",
   "name": "python",
   "nbconvert_exporter": "python",
   "pygments_lexer": "ipython3",
   "version": "3.9.7"
  },
  "orig_nbformat": 4,
  "vscode": {
   "interpreter": {
    "hash": "7f81e4c43d48f28c6da79efcf7f9418cb934eace88fd60d7dad5e6dafe5b4c16"
   }
  }
 },
 "nbformat": 4,
 "nbformat_minor": 2
}
