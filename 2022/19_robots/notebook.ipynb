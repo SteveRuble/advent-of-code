{
 "cells": [
  {
   "cell_type": "code",
   "execution_count": 22,
   "metadata": {},
   "outputs": [
    {
     "name": "stdout",
     "output_type": "stream",
     "text": [
      "('4', '2', '3', '14', '2', '7')\n",
      "[ore:ore:4,clay:0,obs:0|clay:ore:2,clay:0,obs:0|obs:ore:3,clay:14,obs:0|geode:ore:2,clay:0,obs:7, ore:ore:2,clay:0,obs:0|clay:ore:3,clay:0,obs:0|obs:ore:3,clay:8,obs:0|geode:ore:3,clay:0,obs:12]\n"
     ]
    }
   ],
   "source": [
    "import functools\n",
    "import operator\n",
    "import itertools\n",
    "import math\n",
    "import sys\n",
    "import json\n",
    "import re\n",
    "from enum import Enum\n",
    "from collections import deque\n",
    "from dataclasses import dataclass\n",
    "\n",
    "import pulp\n",
    "\n",
    "data = open(\"sample_input.txt\").read().splitlines()\n",
    "pattern = \".*(\\d+)\\D+(\\d+)\\D+(\\d+)\\D+(\\d+)\\D+(\\d+)\\D+(\\d+).*\"\n",
    "print(re.findall(pattern, data[0])[0])\n",
    "\n",
    "@dataclass\n",
    "class Bot():\n",
    "    ore: int\n",
    "    clay: int\n",
    "    obs: int\n",
    "    def __repr__(self) -> str:\n",
    "        return f\"ore:{self.ore},clay:{self.clay},obs:{self.obs}\"\n",
    "\n",
    "class Blueprint:\n",
    "    def __init__(self, input):\n",
    "        ore_ore, clay_ore, obs_ore, obs_clay, geode_ore, geode_obs = [int(x) for x in input]\n",
    "        self.ore = Bot(ore_ore, 0, 0)\n",
    "        self.clay = Bot(clay_ore, 0, 0)\n",
    "        self.obs = Bot(obs_ore, obs_clay, 0)\n",
    "        self.geode = Bot(geode_ore, 0, geode_obs)\n",
    "    def __repr__(self) -> str:\n",
    "        return f\"ore:{self.ore}|clay:{self.clay}|obs:{self.obs}|geode:{self.geode}\"\n",
    "\n",
    "numbers = [Blueprint(re.findall(pattern, line)[0]) for line in data]\n",
    "\n",
    "print(numbers)\n",
    "\n",
    "problem = pulp.LpProblem(\"1\", pulp.LpMaximize)\n",
    "\n"
   ]
  }
 ],
 "metadata": {
  "kernelspec": {
   "display_name": "Python 3",
   "language": "python",
   "name": "python3"
  },
  "language_info": {
   "codemirror_mode": {
    "name": "ipython",
    "version": 3
   },
   "file_extension": ".py",
   "mimetype": "text/x-python",
   "name": "python",
   "nbconvert_exporter": "python",
   "pygments_lexer": "ipython3",
   "version": "3.10.9"
  },
  "orig_nbformat": 4,
  "vscode": {
   "interpreter": {
    "hash": "7535c2b15102566238d74c09a6d8eff063fa7de5f87fb36cc5318ae6ed013385"
   }
  }
 },
 "nbformat": 4,
 "nbformat_minor": 2
}
