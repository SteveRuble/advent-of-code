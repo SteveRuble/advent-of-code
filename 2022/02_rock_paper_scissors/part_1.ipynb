{
 "cells": [
  {
   "cell_type": "code",
   "execution_count": 5,
   "metadata": {},
   "outputs": [
    {
     "data": {
      "text/plain": [
       "9177"
      ]
     },
     "execution_count": 5,
     "metadata": {},
     "output_type": "execute_result"
    }
   ],
   "source": [
    "from enum import Enum\n",
    "\n",
    "data = open(\"sample_input.txt\").read().splitlines()\n",
    "\n",
    "class Move():\n",
    "    def __init__(self, value, win, lose, draw):\n",
    "        self.value = value\n",
    "        self.win = win\n",
    "        self.lose = lose\n",
    "        self.draw = draw\n",
    "    def score(self, other):\n",
    "        if other == self.win:\n",
    "            return 6 + self.value\n",
    "        elif other == self.draw:\n",
    "            return 3 + self.value\n",
    "        else:\n",
    "            return 0 + self.value\n",
    "\n",
    "\n",
    "moves = {\n",
    "    \"X\": Move(1, \"C\", \"B\", \"A\"),\n",
    "    \"Y\": Move(2, \"A\", \"C\", \"B\"),\n",
    "    \"Z\": Move(3, \"B\", \"A\", \"C\")\n",
    "}\n",
    "\n",
    "sum = 0\n",
    "for line in data:\n",
    "    opponent, me = line.split()\n",
    "    sum += moves[me].score(opponent)\n",
    "sum\n"
   ]
  }
 ],
 "metadata": {
  "kernelspec": {
   "display_name": "Python 3.11.0 64-bit",
   "language": "python",
   "name": "python3"
  },
  "language_info": {
   "codemirror_mode": {
    "name": "ipython",
    "version": 3
   },
   "file_extension": ".py",
   "mimetype": "text/x-python",
   "name": "python",
   "nbconvert_exporter": "python",
   "pygments_lexer": "ipython3",
   "version": "3.11.0"
  },
  "orig_nbformat": 4,
  "vscode": {
   "interpreter": {
    "hash": "2e08becd2fb66981e99f43f59d267a76f406a764571e712c80c35314ff1ef65d"
   }
  }
 },
 "nbformat": 4,
 "nbformat_minor": 2
}
