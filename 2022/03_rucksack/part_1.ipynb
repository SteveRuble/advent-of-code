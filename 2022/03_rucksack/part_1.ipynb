{
 "cells": [
  {
   "cell_type": "code",
   "execution_count": 10,
   "metadata": {},
   "outputs": [
    {
     "data": {
      "text/plain": [
       "7701"
      ]
     },
     "execution_count": 10,
     "metadata": {},
     "output_type": "execute_result"
    }
   ],
   "source": [
    "from enum import Enum\n",
    "\n",
    "data = open(\"input.txt\").read().splitlines()\n",
    "\n",
    "def priority(item):\n",
    "    p = ord(item)\n",
    "    if p > 96:\n",
    "        return p - 96\n",
    "    return p - 38\n",
    "\n",
    "def split(line: str):\n",
    "    length = len(line)\n",
    "    return (line[0:int(length/2)], line[int(length/2):])\n",
    "\n",
    "total = 0\n",
    "for line in data:\n",
    "    left, right = split(line)\n",
    "    ld = {el : True for el in left}\n",
    "    dups = {x : priority(x) for x in right if ld.get(x)}\n",
    "   # print(dups)\n",
    "    total += sum([priority(x) for x in dups.keys()]) \n",
    "    \n",
    "total\n"
   ]
  }
 ],
 "metadata": {
  "kernelspec": {
   "display_name": "Python 3.11.0 64-bit",
   "language": "python",
   "name": "python3"
  },
  "language_info": {
   "codemirror_mode": {
    "name": "ipython",
    "version": 3
   },
   "file_extension": ".py",
   "mimetype": "text/x-python",
   "name": "python",
   "nbconvert_exporter": "python",
   "pygments_lexer": "ipython3",
   "version": "3.11.0"
  },
  "orig_nbformat": 4,
  "vscode": {
   "interpreter": {
    "hash": "2e08becd2fb66981e99f43f59d267a76f406a764571e712c80c35314ff1ef65d"
   }
  }
 },
 "nbformat": 4,
 "nbformat_minor": 2
}
