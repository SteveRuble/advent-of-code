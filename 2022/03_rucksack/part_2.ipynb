{
 "cells": [
  {
   "cell_type": "code",
   "execution_count": 14,
   "metadata": {},
   "outputs": [
    {
     "data": {
      "text/plain": [
       "2644"
      ]
     },
     "execution_count": 14,
     "metadata": {},
     "output_type": "execute_result"
    }
   ],
   "source": [
    "from typing import Dict\n",
    "import functools\n",
    "\n",
    "data = open(\"input.txt\").read().splitlines()\n",
    "\n",
    "def priority(item):\n",
    "    p = ord(item)\n",
    "    if p > 96:\n",
    "        return p - 96\n",
    "    return p - 38\n",
    "\n",
    "def map_and_count(line: str, dict: Dict[str, int]):\n",
    "    return {x : 1 + dict.get(x, 0) for x in line}\n",
    "\n",
    "total = 0\n",
    "for line in range(0, len(data), 3):\n",
    "    a = functools.reduce(\n",
    "        lambda acc,index: map_and_count(data[index], acc),\n",
    "        range(line, line+3),\n",
    "        {},\n",
    "    )\n",
    "    total += sum([priority(x) for x in a.keys() if a[x] == 3])\n",
    "    \n",
    "total"
   ]
  }
 ],
 "metadata": {
  "kernelspec": {
   "display_name": "Python 3.11.0 64-bit",
   "language": "python",
   "name": "python3"
  },
  "language_info": {
   "codemirror_mode": {
    "name": "ipython",
    "version": 3
   },
   "file_extension": ".py",
   "mimetype": "text/x-python",
   "name": "python",
   "nbconvert_exporter": "python",
   "pygments_lexer": "ipython3",
   "version": "3.11.0"
  },
  "orig_nbformat": 4,
  "vscode": {
   "interpreter": {
    "hash": "2e08becd2fb66981e99f43f59d267a76f406a764571e712c80c35314ff1ef65d"
   }
  }
 },
 "nbformat": 4,
 "nbformat_minor": 2
}
