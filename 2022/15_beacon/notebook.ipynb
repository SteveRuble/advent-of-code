{
 "cells": [
  {
   "cell_type": "code",
   "execution_count": 110,
   "metadata": {},
   "outputs": [
    {
     "name": "stdout",
     "output_type": "stream",
     "text": [
      "-1077481 4401794 -900998 4159197\n"
     ]
    }
   ],
   "source": [
    "import functools\n",
    "import operator\n",
    "import itertools\n",
    "import math\n",
    "import sys\n",
    "import json\n",
    "import re\n",
    "from typing import Tuple\n",
    "\n",
    "data = open(\"input.txt\").read().splitlines()\n",
    "pattern = \"Sensor at x=([-\\d]+), y=([-\\d]+): closest beacon is at x=([-\\d]+), y=([-\\d]+)\"\n",
    "numbers = [re.match(pattern, line) for line in data]\n",
    "positions = {(int(m[1]), int(m[2])):(int(m[3]),int(m[4])) for m in numbers}\n",
    "\n",
    "min_x = math.inf\n",
    "min_y = math.inf\n",
    "max_x = 0\n",
    "max_y = 0\n",
    "def assess_min_max(a):\n",
    "    x,y = a\n",
    "    global min_x, min_y, max_x, max_y\n",
    "    min_x = min(min_x,x)\n",
    "    max_x = max(max_x,x)\n",
    "    min_y = min(min_y,y)\n",
    "    max_y = max(max_y,y)\n",
    "\n",
    "def distance(a,b):\n",
    "    return abs(a[0]-b[0]) + abs(a[1] - b[1])\n",
    "\n",
    "def add(a,b):\n",
    "    return (a[0]+b[0],a[1]+b[1])\n",
    "\n",
    "beacons = {}\n",
    "for k,v in positions.items():\n",
    "    dist = distance(k,v)\n",
    "    assess_min_max(k)\n",
    "    assess_min_max(v)\n",
    "    beacons[v] = True\n",
    "\n",
    "print(min_x, max_x, min_y, max_y)\n",
    "\n",
    "def part_1():\n",
    "    y = 20\n",
    "    x = min_x\n",
    "    count = 0\n",
    "    while x <= max_x:    \n",
    "        for sensor, beacon in positions.items():\n",
    "            distance_to_sensor = distance((x,y), sensor)\n",
    "            distance_sensor_to_beacon = distance(sensor, beacon)\n",
    "            if distance_to_sensor > distance_sensor_to_beacon:\n",
    "                continue\n",
    "            while distance((x,y), sensor) <= distance_sensor_to_beacon:\n",
    "                x += 1\n",
    "                if (x,y) not in beacons:\n",
    "                    count += 1\n",
    "            break\n",
    "        else:\n",
    "            x += 1\n",
    "\n",
    "    print(count)\n",
    "\n",
    "# part_1()\n"
   ]
  },
  {
   "cell_type": "code",
   "execution_count": 120,
   "metadata": {},
   "outputs": [
    {
     "name": "stdout",
     "output_type": "stream",
     "text": [
      "(2754143, 3214126)\n",
      "11016575214126\n"
     ]
    }
   ],
   "source": [
    "min_x = 0\n",
    "min_y = 0\n",
    "max_x = 4000000\n",
    "max_y = 4000000\n",
    "\n",
    "\n",
    "def part_2():\n",
    "    count = 0\n",
    "    for sensor, beacon in positions.items():\n",
    "        sx, sy = sensor\n",
    "        dist = distance(sensor, beacon)\n",
    "\n",
    "        outline = itertools.chain(\n",
    "            zip(range(sx - dist - 1, sx), range(sy, sy - dist - 2, -1)),\n",
    "            zip(range(sx, sx + dist + 2), range(sy - dist - 1, y)),\n",
    "            zip(range(sx + dist + 1, sx, -1), range(sy, sy + dist + 2)),\n",
    "            zip(range(sx, sx - dist - 2, -1), range(sy + dist + 1, sy, -1)),\n",
    "        )\n",
    "        \n",
    "        for dx, dy in outline:\n",
    "            if dx < min_x or dx > max_x or dy < min_y or dy > max_y:\n",
    "                continue\n",
    "            candidate = (dx,dy)\n",
    "        \n",
    "            for sensor, beacon in positions.items():\n",
    "                distance_to_sensor = distance((dx,dy), sensor)\n",
    "                distance_sensor_to_beacon = distance(sensor, beacon)                    \n",
    "                if distance_to_sensor <= distance_sensor_to_beacon:\n",
    "                    break\n",
    "            else:\n",
    "                return candidate\n",
    "\n",
    "answer = part_2()\n",
    "print(answer)\n",
    "\n",
    "print((answer[0] * 4000000) + answer[1])\n",
    "\n"
   ]
  }
 ],
 "metadata": {
  "kernelspec": {
   "display_name": "Python 3.11.0 64-bit",
   "language": "python",
   "name": "python3"
  },
  "language_info": {
   "codemirror_mode": {
    "name": "ipython",
    "version": 3
   },
   "file_extension": ".py",
   "mimetype": "text/x-python",
   "name": "python",
   "nbconvert_exporter": "python",
   "pygments_lexer": "ipython3",
   "version": "3.11.0"
  },
  "orig_nbformat": 4,
  "vscode": {
   "interpreter": {
    "hash": "2e08becd2fb66981e99f43f59d267a76f406a764571e712c80c35314ff1ef65d"
   }
  }
 },
 "nbformat": 4,
 "nbformat_minor": 2
}
