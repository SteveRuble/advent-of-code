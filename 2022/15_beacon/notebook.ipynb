{
 "cells": [
  {
   "cell_type": "code",
   "execution_count": 38,
   "metadata": {},
   "outputs": [
    {
     "name": "stdout",
     "output_type": "stream",
     "text": [
      "{(2924811, 3544081): (3281893, 3687621), (2719183, 2520103): (2872326, 2415450), (3754787, 3322726): (3281893, 3687621), (1727202, 1485124): (1329230, 1133797), (2517008, 2991710): (2454257, 2594911), (1472321, 3123671): (2216279, 3414523), (3456453, 3959037): (3281893, 3687621), (3997648, 2624215): (4401794, 2000000), (463281, 967584): (1329230, 1133797), (2395529, 1897869): (2454257, 2594911), (3094466, 3888307): (3281893, 3687621), (2737812, 3928154): (2744537, 4159197), (813538, 3874308): (2216279, 3414523), (822358, 1997263): (1329230, 1133797), (3993754, 3951321): (3281893, 3687621), (2585409, 3541887): (2216279, 3414523), (3269796, 3730504): (3281893, 3687621), (3075750, 2873879): (2872326, 2415450), (1357, 2747918): (-1077481, 3057204), (2256257, 344800): (1854450, -900998), (2779742, 2308087): (2872326, 2415450), (867692, 64146): (1329230, 1133797), (3454465, 966419): (4401794, 2000000), (1902550, 2398376): (2454257, 2594911)}\n",
      "-1077481 4401794 -900998 4159197\n",
      "(-638849, 2000000) in range of sensor (1357, 2747918)\n",
      "(641564, 2000000) in range of sensor (822358, 1997263)\n",
      "(2189960, 2000000) in range of sensor (2395529, 1897869)\n",
      "(3049169, 2000000) in range of sensor (3454465, 966419)\n",
      "5040643\n"
     ]
    }
   ],
   "source": [
    "import functools\n",
    "import operator\n",
    "import itertools\n",
    "import math\n",
    "import sys\n",
    "import json\n",
    "import re\n",
    "from typing import Tuple\n",
    "\n",
    "data = open(\"input.txt\").read().splitlines()\n",
    "pattern = \"Sensor at x=([-\\d]+), y=([-\\d]+): closest beacon is at x=([-\\d]+), y=([-\\d]+)\"\n",
    "numbers = [re.match(pattern, line) for line in data]\n",
    "positions = {(int(m[1]), int(m[2])):(int(m[3]),int(m[4])) for m in numbers}\n",
    "print(positions)\n",
    "\n",
    "min_x = math.inf\n",
    "min_y = math.inf\n",
    "max_x = 0\n",
    "max_y = 0\n",
    "def assess_min_max(a):\n",
    "    x,y = a\n",
    "    global min_x, min_y, max_x, max_y\n",
    "    min_x = min(min_x,x)\n",
    "    max_x = max(max_x,x)\n",
    "    min_y = min(min_y,y)\n",
    "    max_y = max(max_y,y)\n",
    "\n",
    "def distance(a,b):\n",
    "    return abs(a[0]-b[0]) + abs(a[1] - b[1])\n",
    "\n",
    "def add(a,b):\n",
    "    return (a[0]+b[0],a[1]+b[1])\n",
    "\n",
    "beacons = {}\n",
    "for k,v in positions.items():\n",
    "    dist = distance(k,v)\n",
    "    assess_min_max(k)\n",
    "    assess_min_max(v)\n",
    "    beacons[v] = True\n",
    "\n",
    "print(min_x, max_x, min_y, max_y)\n",
    "\n",
    "y = 2000000\n",
    "x = min_x\n",
    "count = 0\n",
    "while x <= max_x:    \n",
    "    for sensor, beacon in positions.items():\n",
    "        distance_to_sensor = distance((x,y), sensor)\n",
    "        distance_sensor_to_beacon = distance(sensor, beacon)\n",
    "        #print(f\"at {(x,y)}, {sensor} with {beacon} having {distance_sensor_to_beacon} is at distance {distance_to_sensor}\")\n",
    "        if distance_to_sensor > distance_sensor_to_beacon:\n",
    "            #print(\"  not in range\")\n",
    "            continue\n",
    "        print(f\"{(x,y)} in range of sensor {sensor}\")\n",
    "        while distance((x,y), sensor) <= distance_sensor_to_beacon:\n",
    "            #print(f\"{(x,y)} = {distance((x,y), sensor)}\")\n",
    "            x += 1\n",
    "            if (x,y) not in beacons:\n",
    "                count += 1\n",
    "        break\n",
    "    else:\n",
    "        x += 1\n",
    "    \n",
    "print(count)\n",
    "\n"
   ]
  }
 ],
 "metadata": {
  "kernelspec": {
   "display_name": "Python 3.11.0 64-bit",
   "language": "python",
   "name": "python3"
  },
  "language_info": {
   "codemirror_mode": {
    "name": "ipython",
    "version": 3
   },
   "file_extension": ".py",
   "mimetype": "text/x-python",
   "name": "python",
   "nbconvert_exporter": "python",
   "pygments_lexer": "ipython3",
   "version": "3.11.0"
  },
  "orig_nbformat": 4,
  "vscode": {
   "interpreter": {
    "hash": "2e08becd2fb66981e99f43f59d267a76f406a764571e712c80c35314ff1ef65d"
   }
  }
 },
 "nbformat": 4,
 "nbformat_minor": 2
}
